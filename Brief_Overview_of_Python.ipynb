{
 "cells": [
  {
   "cell_type": "markdown",
   "metadata": {
    "colab_type": "text",
    "id": "kcFEh8cVpNMf"
   },
   "source": [
    "# Brief Overview of Python\n",
    "\n",
    "Just to get us on the same page this is a quick overview of the Python programming language and key points to help us understand Jupyter Notebooks and some of the libraries we look at.\n",
    "\n",
    "The best way to get Python and Jupyter Notebooks is through [Anaconda](https://www.anaconda.com/download/). Anaconda is a platform for using a myriad of data science tools. We will be focusing on Jupyter Notebook and Python, but it offers a wide range of tools. Anaconda comes packaged with most of the necessary libraries and modules needed for Natural Language Processing exercises.\n",
    "\n",
    "If you prefer you can also install Python on to your computer directly from the [Python Software Foundation](https://www.python.org/downloads/)"
   ]
  },
  {
   "cell_type": "markdown",
   "metadata": {
    "colab_type": "text",
    "id": "OqHhtX27pjtY"
   },
   "source": [
    "Python relies on whitespace to group levels of code. It is import that Python code is indented correctly in order for it to be understood and executed by the computer.\n",
    "Try running the cell below. We want it to print the phrase \"hello world!\".\n",
    "\n",
    "Note the error and the space before the `print` command. Delete the leading white space of the `print` line and then run the cell again."
   ]
  },
  {
   "cell_type": "code",
   "execution_count": null,
   "metadata": {
    "colab": {},
    "colab_type": "code",
    "id": "hqpwMSfBpfF6"
   },
   "outputs": [],
   "source": [
    "a = 'hello world'\n",
    " print(a)"
   ]
  },
  {
   "cell_type": "markdown",
   "metadata": {
    "colab_type": "text",
    "id": "Ij7_Wtc8piMN"
   },
   "source": [
    "## variables\n",
    "\n",
    "variables are used to store data in Python. We will use variables a lot in Jupyter Notebooks.\n",
    "\n",
    "A few things about variables:\n",
    "* must start with a letter, or undescore\n",
    "* cannot start with a number\n",
    "* the name must only contain alphanumeric characters and underscores\n",
    "* the names are case sensitive ('cat' does not equal 'Cat')\n",
    "* variables cannot be key Python terms (e.g. `print`)\n",
    "\n",
    "A variable is created the moment it is declared. So to make a variable all you need to do is name it and assign it some value.\n"
   ]
  },
  {
   "cell_type": "code",
   "execution_count": null,
   "metadata": {
    "colab": {},
    "colab_type": "code",
    "id": "2bPm0xDMr8AZ"
   },
   "outputs": [],
   "source": [
    "# create your own variable to store your name. \n",
    "# Try \"printing\" the variable in the output line below this cell. \n",
    "# Hint: look at the code above.\n",
    "# Write your code below this line.\n"
   ]
  },
  {
   "cell_type": "markdown",
   "metadata": {
    "colab_type": "text",
    "id": "2SjzJ-dJsTPB"
   },
   "source": [
    "## Data Types\n",
    "\n",
    "Working in Python it is important to understand the data types.\n",
    "\n",
    "### String\n",
    "\n",
    "When working in NLTK and other language processing libraries we will work a lot with strings. A string is simply character data and will always be enclosed by single or double quotes (there is no difference between using single vs double). Think of a string as plain text. \n",
    "\n",
    "One thing to keep in mind is that strings are nothing but character data. So the string \"4\" is not the same thing as the number 4.\n",
    "\n",
    "We can see this in the code cell below:"
   ]
  },
  {
   "cell_type": "code",
   "execution_count": null,
   "metadata": {
    "colab": {},
    "colab_type": "code",
    "id": "C1ThKnDntuP3"
   },
   "outputs": [],
   "source": [
    "print ('4' + '4', '\\n', 4 + 4)"
   ]
  },
  {
   "cell_type": "markdown",
   "metadata": {
    "colab_type": "text",
    "id": "PsET7Oijt8mJ"
   },
   "source": [
    "### Numbers\n",
    "\n",
    "There are two types of of number data in Python that we will look at:\n",
    "* integer: a whole positive or negative number with out decimals (e.g. 1, 20543670, -34)\n",
    "* float: a positive or negative number containing at least one decimal (e.g. 1.34, -2.546, 2.0)\n",
    "\n",
    "We perform math and computation on these data types."
   ]
  },
  {
   "cell_type": "code",
   "execution_count": null,
   "metadata": {
    "colab": {},
    "colab_type": "code",
    "id": "qaGtt38dt3Zc"
   },
   "outputs": [],
   "source": [
    "print (5*3)"
   ]
  },
  {
   "cell_type": "code",
   "execution_count": null,
   "metadata": {
    "colab": {},
    "colab_type": "code",
    "id": "ZFafBnaUvfC0"
   },
   "outputs": [],
   "source": [
    "print (1+2)"
   ]
  },
  {
   "cell_type": "code",
   "execution_count": null,
   "metadata": {
    "colab": {},
    "colab_type": "code",
    "id": "URMu2xVcvhxA"
   },
   "outputs": [],
   "source": [
    "print (2.1*(3+3.134))"
   ]
  },
  {
   "cell_type": "markdown",
   "metadata": {
    "colab_type": "text",
    "id": "ZK2W0p9RvzYI"
   },
   "source": [
    "### Python Collections\n",
    "\n",
    "#### Lists\n",
    "Lists are collections of data that can be changed and reordered. For example we could store the numbers 1, 4, -1, -1.3, and 3.14 in a list. A list is notated with the square brackets. In Python a list containing the numbers above would look like this: <br/>\n",
    "`[1, 4, -1, -1.3, 3.14]`<br/>\n",
    "A list of animals would look like this:<br/>\n",
    "`['cat','bear','horse','dog']`\n",
    "\n",
    "We can assign these lists to a variable to refer to them.<br/>\n",
    "`animals = ['cat','bear','horse','dog']`\n",
    "\n",
    "To retrieve the values from a list we refer to the position of the item in the list, this is called the index, or index position. Note that in Python counts start at 0. So the first entry has the index position of 0.\n",
    "\n",
    "`print (animals[1])`<br/>\n",
    "`>>> 'bear'`\n",
    "\n",
    "Below, create a list of anything you like. Then practice accessing the data using the index position."
   ]
  },
  {
   "cell_type": "code",
   "execution_count": null,
   "metadata": {
    "colab": {},
    "colab_type": "code",
    "id": "_dcm4pWSvrwx"
   },
   "outputs": [],
   "source": [
    "# type your list below this line. "
   ]
  },
  {
   "cell_type": "markdown",
   "metadata": {
    "colab_type": "text",
    "id": "XeejpqO-yIGt"
   },
   "source": [
    "If we want to see more items from the list we can refer to multiple positions in a list with a colon. <br/>\n",
    "Note: the last number indicates the position of the index where the slice ends and does not return the item in that position.<br/>\n",
    "`print (animals[0:2])`<br/>\n",
    "`>>> ['cat','bear']`\n",
    "\n",
    "To reach the end of a list we can leave the stopping point blank:<br/>\n",
    "`print (animals[2:])`<br/>\n",
    "`>>> ['horse','dog']`"
   ]
  },
  {
   "cell_type": "code",
   "execution_count": null,
   "metadata": {
    "colab": {},
    "colab_type": "code",
    "id": "_Br2MoodyeLj"
   },
   "outputs": [],
   "source": [
    "# Try retrieveing different items, or groups of items, out of the list below.\n",
    "animals = ['cat','bear','horse','dog']\n",
    "print(animals[2:])"
   ]
  },
  {
   "cell_type": "markdown",
   "metadata": {
    "colab_type": "text",
    "id": "bnYqgdwW_vZq"
   },
   "source": [
    "Something useful about lists is that we can change a list by simply reassigning values by the index location. "
   ]
  },
  {
   "cell_type": "code",
   "execution_count": null,
   "metadata": {
    "colab": {},
    "colab_type": "code",
    "id": "NwLj_3D4_-FB"
   },
   "outputs": [],
   "source": [
    "animals"
   ]
  },
  {
   "cell_type": "code",
   "execution_count": null,
   "metadata": {
    "colab": {},
    "colab_type": "code",
    "id": "FqfkTVbOACa-"
   },
   "outputs": [],
   "source": [
    "animals[0] = 'red'\n",
    "animals"
   ]
  },
  {
   "cell_type": "markdown",
   "metadata": {
    "colab_type": "text",
    "id": "np3SmJG0z0cV"
   },
   "source": [
    "#### Sets\n",
    "\n",
    "Sets are unordered collections of data that can be added to or changed. For our purposes the key difference between a list and a set is that a set does not contain duplicate values, and the values are not indexed. \n",
    "\n",
    "Sets are made simlarly to lists but instead of using the squared brackets, sets are denoted with the curly brackets: `{}`\n",
    "\n",
    "Look at the code cell below and note the difference in the varaibles when printed."
   ]
  },
  {
   "cell_type": "code",
   "execution_count": null,
   "metadata": {
    "colab": {},
    "colab_type": "code",
    "id": "SJ3RtkC8yrIr"
   },
   "outputs": [],
   "source": [
    "s = {'dog','bone','cat','string','dog'}\n",
    "l = ['dog','bone','cat','string','dog']\n",
    "print(s)\n",
    "print(l)"
   ]
  },
  {
   "cell_type": "code",
   "execution_count": null,
   "metadata": {
    "colab": {},
    "colab_type": "code",
    "id": "N55d-pq61zCF"
   },
   "outputs": [],
   "source": [
    "# `len` will give us the length, or the number of items, in a list or set.\n",
    "print(len(s))\n",
    "print(len(l))"
   ]
  },
  {
   "cell_type": "markdown",
   "metadata": {
    "colab_type": "text",
    "id": "mf-2Q1LV5aRY"
   },
   "source": [
    "If we want to get values in a set we can iterate through it.\n",
    "\n"
   ]
  },
  {
   "cell_type": "code",
   "execution_count": null,
   "metadata": {
    "colab": {},
    "colab_type": "code",
    "id": "XVsnKNuo44rB"
   },
   "outputs": [],
   "source": [
    "for word in s:\n",
    "    print (word)\n",
    "  \n",
    "  "
   ]
  },
  {
   "cell_type": "code",
   "execution_count": null,
   "metadata": {
    "colab": {},
    "colab_type": "code",
    "id": "KWQJebs210Qm"
   },
   "outputs": [],
   "source": [
    "# a set can be changed, but note the order is not significant. \n",
    "s.add('mouse')\n",
    "print (s)"
   ]
  },
  {
   "cell_type": "markdown",
   "metadata": {},
   "source": [
    "We can sort a set with the `sorted()` function. In the case of strings the sort works in alphabetical order but it doesn't have any significance to the set."
   ]
  },
  {
   "cell_type": "code",
   "execution_count": null,
   "metadata": {},
   "outputs": [],
   "source": [
    "sorted(s)"
   ]
  },
  {
   "cell_type": "markdown",
   "metadata": {
    "colab_type": "text",
    "id": "1ttFRWk-9hwB"
   },
   "source": [
    "### Tuple\n",
    "A tuple is a collection of ordered and unchangeable data.\n",
    "\n",
    "Tuples are denoted with parantheses, or round brackets:`()`\n",
    "\n",
    "Once a tuple is created it cannot be changed unless there is a reassignment to the variable."
   ]
  },
  {
   "cell_type": "code",
   "execution_count": null,
   "metadata": {
    "colab": {},
    "colab_type": "code",
    "id": "Dbo7q9gJ2mpi"
   },
   "outputs": [],
   "source": [
    "color = ('red','yellow','green','blue')\n",
    "print (color)"
   ]
  },
  {
   "cell_type": "code",
   "execution_count": null,
   "metadata": {
    "colab": {},
    "colab_type": "code",
    "id": "UvE54P0H26Qk"
   },
   "outputs": [],
   "source": [
    "color[0] "
   ]
  },
  {
   "cell_type": "code",
   "execution_count": null,
   "metadata": {
    "colab": {},
    "colab_type": "code",
    "id": "uPK4D7Pf-jjq"
   },
   "outputs": [],
   "source": [
    "# This should give you an error message\n",
    "color[0] = 'cat'"
   ]
  },
  {
   "cell_type": "code",
   "execution_count": null,
   "metadata": {
    "colab": {},
    "colab_type": "code",
    "id": "kAktru38ATvX"
   },
   "outputs": [],
   "source": [
    "print(color)"
   ]
  },
  {
   "cell_type": "markdown",
   "metadata": {
    "colab_type": "text",
    "id": "j1ELJuKTAv-i"
   },
   "source": [
    "### DIctionary\n",
    "Finally (for our purposes)  a dictionary is a collection of unordered, changeable, and indexed data, with key-value pairs. \n",
    "\n",
    "A dictionary is denoted with curly brackets:`{}` and key-value pairs indicated by `:`"
   ]
  },
  {
   "cell_type": "code",
   "execution_count": null,
   "metadata": {
    "colab": {},
    "colab_type": "code",
    "id": "VpDjajkc_Wax"
   },
   "outputs": [],
   "source": [
    "my_dict = {\n",
    "    'cat':'string',\n",
    "    'dog':'bone'\n",
    "}"
   ]
  },
  {
   "cell_type": "markdown",
   "metadata": {
    "colab_type": "text",
    "id": "ibdh9U7dCKRb"
   },
   "source": [
    "There are many ways to access the values in the dictionary."
   ]
  },
  {
   "cell_type": "code",
   "execution_count": null,
   "metadata": {
    "colab": {},
    "colab_type": "code",
    "id": "rOgfPJUzCIYH"
   },
   "outputs": [],
   "source": [
    "my_dict['cat']"
   ]
  },
  {
   "cell_type": "code",
   "execution_count": null,
   "metadata": {
    "colab": {},
    "colab_type": "code",
    "id": "3DqAS0qmCQWy"
   },
   "outputs": [],
   "source": [
    "my_dict.get('dog')"
   ]
  },
  {
   "cell_type": "code",
   "execution_count": null,
   "metadata": {
    "colab": {},
    "colab_type": "code",
    "id": "oMqgru5sDCH3"
   },
   "outputs": [],
   "source": [
    "for val in my_dict:\n",
    "  print(val)"
   ]
  },
  {
   "cell_type": "markdown",
   "metadata": {
    "colab_type": "text",
    "id": "_A0iKaZdCnIR"
   },
   "source": [
    "And the dictionary can have values added, changed and deleted"
   ]
  },
  {
   "cell_type": "code",
   "execution_count": null,
   "metadata": {
    "colab": {},
    "colab_type": "code",
    "id": "CEDGp-54CZ2l"
   },
   "outputs": [],
   "source": [
    "my_dict['cat'] = 'plant'\n",
    "my_dict"
   ]
  },
  {
   "cell_type": "code",
   "execution_count": null,
   "metadata": {
    "colab": {},
    "colab_type": "code",
    "id": "oheCdJhFC4IT"
   },
   "outputs": [],
   "source": [
    "my_dict['mouse'] = 'cheese'\n",
    "my_dict"
   ]
  },
  {
   "cell_type": "code",
   "execution_count": null,
   "metadata": {
    "colab": {},
    "colab_type": "code",
    "id": "ibaFK0OoC9kq"
   },
   "outputs": [],
   "source": [
    "del my_dict['cat']\n",
    "my_dict"
   ]
  },
  {
   "cell_type": "code",
   "execution_count": null,
   "metadata": {
    "colab": {},
    "colab_type": "code",
    "id": "AE-kEVrFDVMt"
   },
   "outputs": [],
   "source": [
    "my_dict.keys()"
   ]
  },
  {
   "cell_type": "code",
   "execution_count": null,
   "metadata": {
    "colab": {},
    "colab_type": "code",
    "id": "MYNrr72tDbvD"
   },
   "outputs": [],
   "source": [
    "my_dict.values()"
   ]
  },
  {
   "cell_type": "markdown",
   "metadata": {
    "colab_type": "text",
    "id": "0VafnYgBMSaU"
   },
   "source": [
    "## Conditional Statements and For Loops\n",
    "\n",
    "### Conditional statements\n",
    "Python uses \"conditional statements\" to evaluate data and then execute an action based on the result of that evaluation. The basic construction is: *if this statement is true then do this action*\n",
    "\n",
    "Python only cares if the statement is true or false. For example:  2+2 = 4. If this is true say \"you are right\"\n",
    "\n",
    "In python this kind of statement is writen this way:<br/>\n",
    "`if [my condition]:`\n",
    "> `[do this action]`\n",
    "\n",
    "look at the code below to explore how conditional statements work. Change the conditional statement to see how the code responds. \n",
    "\n",
    "Here is the notation for some basic comparisons:\n",
    "* Equals: a == b\n",
    "* Not Equals: a != b\n",
    "* Less than: a < b\n",
    "* Less than or equal to: a <= b\n",
    "* Greater than: a > b\n",
    "* Greater than or equal to: a >= b"
   ]
  },
  {
   "cell_type": "code",
   "execution_count": null,
   "metadata": {
    "colab": {},
    "colab_type": "code",
    "id": "B-ix1ZoADgax"
   },
   "outputs": [],
   "source": [
    "if 1 < 2:\n",
    "  print ('this statement is true')\n",
    "  \n",
    "print('^^^^^^^^^^^^^^^^^^^^^^')"
   ]
  },
  {
   "cell_type": "markdown",
   "metadata": {
    "colab_type": "text",
    "id": "Auu5P5R6Qk5s"
   },
   "source": [
    "What can we do if the statement is false?\n",
    "\n",
    "There are two options.\n",
    "1. We just ignore the action and continue as if it was never accounted. i.e. do nothing. \n",
    "2. Offer an alternative to execute in the case that the stetement is False by including an `else` action.\n",
    "\n",
    "\n",
    "**Note: Observe how the code is indented to organize the actions. **"
   ]
  },
  {
   "cell_type": "code",
   "execution_count": null,
   "metadata": {
    "colab": {},
    "colab_type": "code",
    "id": "pxgpJfVjQB_s"
   },
   "outputs": [],
   "source": [
    "a = 2\n",
    "b = 4\n",
    "if a == b:\n",
    "  print ('These are the same')\n",
    "else:\n",
    "  print('These are different')"
   ]
  },
  {
   "cell_type": "markdown",
   "metadata": {
    "colab_type": "text",
    "id": "WiGn_x9ERt79"
   },
   "source": [
    "### For Loops\n",
    "\n",
    "A for loop is used to go through a sequence of data (e.g. a list, tuple, set, dictionary, and even a string).\n",
    "\n",
    "it is written using an iterator value that tracks the place of the loop within the container "
   ]
  },
  {
   "cell_type": "code",
   "execution_count": null,
   "metadata": {
    "colab": {},
    "colab_type": "code",
    "id": "sg3xWvoXRWGM"
   },
   "outputs": [],
   "source": [
    "# create a list of numbers to iterate through with a foor loop\n",
    "numbers = [1,4,6,7]"
   ]
  },
  {
   "cell_type": "code",
   "execution_count": null,
   "metadata": {
    "colab": {},
    "colab_type": "code",
    "id": "RbriLc8XSmxG"
   },
   "outputs": [],
   "source": [
    "# use a loop to square each number and show the result\n",
    "for n in numbers:\n",
    "  print(n*n)"
   ]
  },
  {
   "cell_type": "code",
   "execution_count": null,
   "metadata": {
    "colab": {},
    "colab_type": "code",
    "id": "4yafZneZTAyP"
   },
   "outputs": [],
   "source": [
    "# try this on a list of strings\n",
    "animals = ['cat','dog','bear','fish']\n",
    "for a in animals:\n",
    "  word = a.upper()\n",
    "  print(word)"
   ]
  },
  {
   "cell_type": "markdown",
   "metadata": {
    "colab_type": "text",
    "id": "XrCC8Q0bTdYP"
   },
   "source": [
    "***Note: The actual values in the list have not changed. This does not do anything to the list but it uses the list as an input value*** "
   ]
  },
  {
   "cell_type": "code",
   "execution_count": null,
   "metadata": {
    "colab": {},
    "colab_type": "code",
    "id": "YODaSrE3TPy3"
   },
   "outputs": [],
   "source": [
    "print(numbers)\n",
    "print(animals)"
   ]
  },
  {
   "cell_type": "markdown",
   "metadata": {
    "colab_type": "text",
    "id": "Ik5CICmrUXXK"
   },
   "source": [
    "The if statement and the for loop can be used together to execute more complex actions, particularly when evaluating containers of data."
   ]
  },
  {
   "cell_type": "code",
   "execution_count": null,
   "metadata": {
    "colab": {},
    "colab_type": "code",
    "id": "jVN2LM-sT04D"
   },
   "outputs": [],
   "source": [
    "# combine a for loop and an if statement to find all the numbers less than 5.\n",
    "\n",
    "for n in numbers:\n",
    "  if n < 5:\n",
    "    print (n)"
   ]
  },
  {
   "cell_type": "code",
   "execution_count": null,
   "metadata": {
    "colab": {},
    "colab_type": "code",
    "id": "scoDe0mqVTJd"
   },
   "outputs": [],
   "source": [
    "# we can use this feature to create a new list that contains the items we are interested in.\n",
    "\n",
    "colors = ['gold','green','blue','red','yellow']\n",
    "g_colors = []\n",
    "for c in colors:\n",
    "  if c[0] == 'g':\n",
    "    g_colors.append(c)\n",
    "    \n",
    "print(g_colors)"
   ]
  },
  {
   "cell_type": "markdown",
   "metadata": {
    "colab_type": "text",
    "id": "FTa3-cHZWErj"
   },
   "source": [
    "## Functions\n",
    "\n",
    "Finally we can combine all of these features to create complex actions that can be reused to perform regular tasks.\n",
    "\n",
    "A function is created with the key word `def` followed by the name of the function and parantheses. A function can accept input in the form of arguments that are passed into the function.\n",
    "\n",
    "`def [function name]([argument]):`\n",
    ">`[code to execute]`\n",
    "\n",
    "To use a function, or to \"call\" a function, you simply use the name with the parenthese and pass in any necessary arguments. \n",
    "\n",
    "Let's first look at a very simple function that does not require any inputs."
   ]
  },
  {
   "cell_type": "code",
   "execution_count": null,
   "metadata": {
    "colab": {},
    "colab_type": "code",
    "id": "c-Yq3hulWAkd"
   },
   "outputs": [],
   "source": [
    "# at the end of this cell type 'greeting()' to call the function.\n",
    "def greeting():\n",
    "  print('Hello There!')\n",
    "  \n"
   ]
  },
  {
   "cell_type": "code",
   "execution_count": null,
   "metadata": {
    "colab": {},
    "colab_type": "code",
    "id": "J1k1iH6GXjty"
   },
   "outputs": [],
   "source": [
    "# Now let's pass in an argument and see how we can make the function more versatile\n",
    "def greeting(name):\n",
    "  print('Hello There,', name + '!')"
   ]
  },
  {
   "cell_type": "code",
   "execution_count": null,
   "metadata": {
    "colab": {},
    "colab_type": "code",
    "id": "VziQBd5NX6L5"
   },
   "outputs": [],
   "source": [
    "# now we create a variable and pass that into the function. \n",
    "my_name = 'Derek'\n",
    "greeting(my_name)"
   ]
  },
  {
   "cell_type": "code",
   "execution_count": null,
   "metadata": {
    "colab": {},
    "colab_type": "code",
    "id": "miwdTbOMYLW-"
   },
   "outputs": [],
   "source": [
    "# now we can use this function to greet anyone once we have a variable for the name.\n",
    "# also notice we are using a new command here. \n",
    "your_name = input('What is your name?')\n",
    "greeting(your_name)"
   ]
  },
  {
   "cell_type": "code",
   "execution_count": null,
   "metadata": {
    "colab": {},
    "colab_type": "code",
    "id": "QOY8PzOSYzlx"
   },
   "outputs": [],
   "source": [
    "# or we can just pass in a string\n",
    "greeting('people')"
   ]
  },
  {
   "cell_type": "code",
   "execution_count": null,
   "metadata": {
    "colab": {},
    "colab_type": "code",
    "id": "EBnbPzQhZN52"
   },
   "outputs": [],
   "source": [
    "# useful for executing repetitive tasks. Compute the number of seconds in a given number of minutes.\n",
    "def seconds(min):\n",
    "  sec = min*60\n",
    "  print('There are', sec,'seconds in', min,'minutes.')\n",
    "\n",
    "seconds(24)"
   ]
  },
  {
   "cell_type": "markdown",
   "metadata": {
    "colab_type": "text",
    "id": "Xrc4B0ajYvxO"
   },
   "source": [
    "Now let's combine everything we have leanred to create a function that will compare two lists and return a dictionary that tells us what words appear in both lists and how many times.\n",
    "\n",
    "There are lots of ways to write this code. I am going to focus on a method that relies on the aspects of python covered in this notebook."
   ]
  },
  {
   "cell_type": "code",
   "execution_count": 2,
   "metadata": {
    "colab": {},
    "colab_type": "code",
    "id": "NXZluOIMYcRL"
   },
   "outputs": [],
   "source": [
    "# create the dictionary to hold the results we want to see\n",
    "word_list = {}\n",
    "\n",
    "def check_list(ls1,ls2):\n",
    "  # remove any duplicates from the list to find matches in both lists\n",
    "    setx = set(ls1)\n",
    "    sety = set(ls2)\n",
    "    for x in setx:\n",
    "        for y in sety:\n",
    "            if x == y:\n",
    "                word_list[x] = 0\n",
    "    all_words = ls1 + ls2\n",
    "    for k in word_list.keys():\n",
    "        for w in all_words:\n",
    "            if k == w:\n",
    "                word_list[k] += 1\n",
    "    print(word_list)\n",
    "        \n",
    "    \n",
    "    \n",
    "   \n",
    "      \n",
    "  "
   ]
  },
  {
   "cell_type": "code",
   "execution_count": 3,
   "metadata": {
    "colab": {},
    "colab_type": "code",
    "id": "jKQ23VLraoDt"
   },
   "outputs": [
    {
     "name": "stdout",
     "output_type": "stream",
     "text": [
      "{'bird': 2, 'dog': 3, 'cat': 3}\n"
     ]
    }
   ],
   "source": [
    "animals = ['cat','dog','bird','cat','bear']\n",
    "pets = ['dog','cat','mouse','dog','bird']\n",
    "\n",
    "check_list(animals,pets)"
   ]
  },
  {
   "cell_type": "code",
   "execution_count": null,
   "metadata": {
    "colab": {},
    "colab_type": "code",
    "id": "IGSkTb0rfp21"
   },
   "outputs": [],
   "source": []
  }
 ],
 "metadata": {
  "colab": {
   "collapsed_sections": [],
   "name": "Brief Overview of Python.ipynb",
   "provenance": [],
   "version": "0.3.2"
  },
  "kernelspec": {
   "display_name": "Python 3",
   "language": "python",
   "name": "python3"
  },
  "language_info": {
   "codemirror_mode": {
    "name": "ipython",
    "version": 3
   },
   "file_extension": ".py",
   "mimetype": "text/x-python",
   "name": "python",
   "nbconvert_exporter": "python",
   "pygments_lexer": "ipython3",
   "version": "3.6.4"
  }
 },
 "nbformat": 4,
 "nbformat_minor": 1
}
