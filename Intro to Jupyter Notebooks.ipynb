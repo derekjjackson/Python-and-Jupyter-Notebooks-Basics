{
 "cells": [
  {
   "cell_type": "markdown",
   "metadata": {},
   "source": [
    "# Intro to using Jupyter Notebook"
   ]
  },
  {
   "cell_type": "markdown",
   "metadata": {},
   "source": [
    "All of the work done in a 'notebook' is stored in an iptyhon notebook file (this is the file extension for a ipython notebook: .ipynb). "
   ]
  },
  {
   "cell_type": "markdown",
   "metadata": {},
   "source": [
    "put your mouse over this text and \"double click\" on it. You will enter edit mode for the cell. \n",
    "\n",
    "Enter some text below (press `shift + enter` when you are done):\n",
    "\n",
    "This is the best workshop... ever!"
   ]
  },
  {
   "cell_type": "markdown",
   "metadata": {},
   "source": [
    "For the rest of this demonstration you should use `shift + enter` to navigate through the cells in the demo unless requested to do otherwise."
   ]
  },
  {
   "cell_type": "markdown",
   "metadata": {},
   "source": [
    "`shift + enter` will run a cell, and execute the code writen in the cell. \n",
    "The type of cell we are using now is a \"markdown\" cell and these types of cells are used to add formatted and descriptive text to a notebook. \n",
    "<br/>\n",
    "\n",
    "These cells can use markup notation ([Markup Cheetsheet](https://github.com/adam-p/markdown-here/wiki/Markdown-Cheatsheet)), or you can also use html."
   ]
  },
  {
   "cell_type": "markdown",
   "metadata": {},
   "source": [
    "<p style=\"font-size:1.5em;color:#004488;border: black solid 1px; padding:5px;margin-bottom:1em;\">This is an example of using &lt;html&gt; to markup text in the markdown cells. if you click on this cell you can see the markup</p>"
   ]
  },
  {
   "cell_type": "markdown",
   "metadata": {},
   "source": [
    "If you look above, in the menu bar or ribbon, you will see a small drop-down menu that says \"Markdown\". This menu will tell you what kind of cell you are in and allow you to change to another type of cell. In the next cell use the drop-down menu to change the cell from a 'Markdown' cell to a 'Code' cell."
   ]
  },
  {
   "cell_type": "code",
   "execution_count": null,
   "metadata": {},
   "outputs": [],
   "source": [
    "print (' *Change this from a \"Markdown\" cell to a \"Code\" cell and then hit `shift+ enter` to run this as a code cell.*')"
   ]
  },
  {
   "cell_type": "markdown",
   "metadata": {},
   "source": [
    "You just used the jupyter notebook to execute a cell of python code. You printed a \"string\" to the console."
   ]
  },
  {
   "cell_type": "code",
   "execution_count": null,
   "metadata": {},
   "outputs": [],
   "source": [
    "# You can also add comments to a code cell \n",
    "# by preceding the text with a \"#\"\n",
    "# use this for notes that apply directly to the code in the cell"
   ]
  },
  {
   "cell_type": "markdown",
   "metadata": {},
   "source": [
    "## looking at your system from a jupyter notebook"
   ]
  },
  {
   "cell_type": "markdown",
   "metadata": {},
   "source": [
    "Shell Commands can also be run in Jupyter Notebooks by prefacing the command with a `!`. keep in mind MAC vs Windows commands can require different commands."
   ]
  },
  {
   "cell_type": "code",
   "execution_count": null,
   "metadata": {},
   "outputs": [],
   "source": [
    "# list the files in the current directory with Mac OS In windows this might be 'dir'\n",
    "!ls"
   ]
  },
  {
   "cell_type": "code",
   "execution_count": null,
   "metadata": {},
   "outputs": [],
   "source": [
    "# present working directory in MAC OS. In WIndows try 'cd'\n",
    "!pwd"
   ]
  },
  {
   "cell_type": "markdown",
   "metadata": {},
   "source": [
    "## The 'In' and 'Out' objects"
   ]
  },
  {
   "cell_type": "markdown",
   "metadata": {},
   "source": [
    "Notice the \"In\" and \"Out\" text by each cell. Jupyter Notebooks stores the contents of each cell in an \"In\" or \"Out\" List. The contents of the cells can be accessed by referencing these objects."
   ]
  },
  {
   "cell_type": "code",
   "execution_count": null,
   "metadata": {},
   "outputs": [],
   "source": [
    "print(1 + 2 * 3)"
   ]
  },
  {
   "cell_type": "markdown",
   "metadata": {},
   "source": [
    "Now return the contents of the cell above by typing `In [##]` where '##' is the number of the cell above."
   ]
  },
  {
   "cell_type": "code",
   "execution_count": null,
   "metadata": {},
   "outputs": [],
   "source": [
    "In[##]"
   ]
  },
  {
   "cell_type": "markdown",
   "metadata": {},
   "source": [
    "### The differences of \"In' and \"Out\""
   ]
  },
  {
   "cell_type": "markdown",
   "metadata": {},
   "source": [
    "Run the following cell. It is just the number 4."
   ]
  },
  {
   "cell_type": "code",
   "execution_count": null,
   "metadata": {},
   "outputs": [],
   "source": [
    "4"
   ]
  },
  {
   "cell_type": "markdown",
   "metadata": {},
   "source": [
    "In the next cell type the number of the cell above, into the the cell below, i.e. `In[##]`.\n",
    "\n",
    "This will return a string of the text in the cell. The contents of an `IN[##]` object will always return a string of text. So this is not code or a value. "
   ]
  },
  {
   "cell_type": "code",
   "execution_count": null,
   "metadata": {},
   "outputs": [],
   "source": [
    "In[##]"
   ]
  },
  {
   "cell_type": "markdown",
   "metadata": {},
   "source": [
    "You see it returned the number '4', but not as an integer number, it is simply text, a string. `In[##]` always returns a string.\n",
    "\n",
    "Now in the next cell type the number of the cell with the number 4 into the the `Out` object i.e. `Out[##]`."
   ]
  },
  {
   "cell_type": "code",
   "execution_count": null,
   "metadata": {},
   "outputs": [],
   "source": [
    "Out[##]"
   ]
  },
  {
   "cell_type": "markdown",
   "metadata": {},
   "source": [
    "This time the output is a number 4, an integer, that can be added to and subtracted. The `Out[##]` object can be data types other than strings that can be reused in other cells.\n",
    "\n",
    "Run the folowing code to see the difference between the `In[##]` and `Out[##]` objects. "
   ]
  },
  {
   "cell_type": "code",
   "execution_count": null,
   "metadata": {},
   "outputs": [],
   "source": [
    "# multiplying with strings.\n",
    "In[##] * 2"
   ]
  },
  {
   "cell_type": "code",
   "execution_count": null,
   "metadata": {},
   "outputs": [],
   "source": [
    "#multiplying with integers, numbers.\n",
    "Out[##] * 2"
   ]
  },
  {
   "cell_type": "code",
   "execution_count": null,
   "metadata": {},
   "outputs": [],
   "source": [
    "In[##] * Out[##]"
   ]
  },
  {
   "cell_type": "markdown",
   "metadata": {},
   "source": [
    "We can look at the contents of the objects and see it holds all our commands we hae executed in code cells"
   ]
  },
  {
   "cell_type": "code",
   "execution_count": null,
   "metadata": {},
   "outputs": [],
   "source": [
    "In[:]"
   ]
  },
  {
   "cell_type": "markdown",
   "metadata": {},
   "source": [
    "## Keyboard Shortcuts"
   ]
  },
  {
   "cell_type": "markdown",
   "metadata": {},
   "source": [
    ">Jupyter Notebook has a modal user interface. This means that the keyboard does different things depending on which mode the Notebook is in. There are two modes: edit mode and command mode.\n",
    ">\n",
    ">**Edit mode** is indicated by a green cell border and a prompt showing in the editor area... When a cell is in edit mode, you can type into the cell, like a normal text editor. Enter edit mode by pressing `Enter` or using the mouse to click on a cell’s editor area. \n",
    "\n",
    "\n",
    ">**Command mode** is indicated by a grey cell border with a blue left margin... When you are in command mode, you are able to edit the notebook as a whole, but not type into individual cells. Most importantly, in command mode, the keyboard is mapped to a set of shortcuts that let you perform notebook and cell actions efficiently. Enter command mode by pressing `Esc` or using the mouse to click outside a cell’s editor area.\n",
    "\n",
    "- jupyter-notebook.readthedocs.io.com, \"Notebooks Basics\", https://jupyter-notebook.readthedocs.io/en/stable/examples/Notebook/Notebook%20Basics.html (September 21,2018)"
   ]
  },
  {
   "cell_type": "markdown",
   "metadata": {},
   "source": [
    "### Command Mode - Manipulating the cells (`esc`)"
   ]
  },
  {
   "cell_type": "markdown",
   "metadata": {},
   "source": [
    "**Copy** and **Cut** of Cells is the same as keyboard shortcuts but you don't need the modifier key: Copy `c` and Cut `x`"
   ]
  },
  {
   "cell_type": "markdown",
   "metadata": {},
   "source": [
    "**Paste** is a litte different because there are two places to paste a cell. To paste a cell below: `v`. To paste a cell above `Shift + v`"
   ]
  },
  {
   "cell_type": "markdown",
   "metadata": {},
   "source": [
    "To **delete** a cell pres the 'd' key twice: `d, d`"
   ]
  },
  {
   "cell_type": "markdown",
   "metadata": {},
   "source": [
    "There are two ways to **insert** a cell. To **insert above** a cell: `a`. To **insert below** a cell: `b`"
   ]
  },
  {
   "cell_type": "markdown",
   "metadata": {},
   "source": [
    "To **extend a selection** use the shift key with the arrow keys: `Shift + up/down arrow keys`"
   ]
  },
  {
   "cell_type": "markdown",
   "metadata": {},
   "source": [
    "**Running Cells**. To run a cell and keep that cell selected: `Ctrl + Enter`. To run a cell and move to the next cell: `Shift + Enter`. To run a cell and add a new cell below: `Alt + Enter`"
   ]
  },
  {
   "cell_type": "markdown",
   "metadata": {},
   "source": [
    "To **merge selected cells** into one cell: `Shift + M`"
   ]
  },
  {
   "cell_type": "markdown",
   "metadata": {},
   "source": [
    "To **turn on/off line numbers**: `Shift + L`"
   ]
  },
  {
   "cell_type": "code",
   "execution_count": null,
   "metadata": {},
   "outputs": [],
   "source": [
    "# Without entering this cell, so you are on Command mode, press 'Shift' + 'L'. \n",
    "# How many line numbers in this cell?\n",
    "\n",
    "\n",
    "\n"
   ]
  },
  {
   "cell_type": "markdown",
   "metadata": {},
   "source": [
    "#### Help is here\n",
    "To see more commands access the **HELP** menu in command mode with `h`"
   ]
  },
  {
   "cell_type": "markdown",
   "metadata": {},
   "source": [
    "### Edit Mode Commands - Editing the interior of cells (`enter`)"
   ]
  },
  {
   "cell_type": "markdown",
   "metadata": {},
   "source": [
    "To **cut, copy, or paste** inside of a cell the shortcuts are the same as the Browser: `Ctrl + X, C, or V` in windows; `Command + X, C, or V` in macOS) "
   ]
  },
  {
   "cell_type": "markdown",
   "metadata": {},
   "source": [
    "To **indent** and **dedent** code: `ctrl + ], or [`"
   ]
  },
  {
   "cell_type": "markdown",
   "metadata": {},
   "source": [
    "To **split a cell** into several cells: `Ctrl + Shift + -`\n",
    "\n",
    "This will split the cell at the cursor"
   ]
  },
  {
   "cell_type": "markdown",
   "metadata": {},
   "source": [
    "To **change the cell to a Markdown cell** use `m`. To **change the cell to Code cell** use `y`."
   ]
  },
  {
   "cell_type": "markdown",
   "metadata": {},
   "source": [
    "## In Practice"
   ]
  },
  {
   "cell_type": "markdown",
   "metadata": {},
   "source": [
    "Python does not inherently do all of the things we have come to expect from it. In its raw form it is actually quite simple. However, many people have contributed to Pythons growth and utility by creating modules and libraries that extend the capabilities of the basic pyhton core. To access these modules and libraies we must `import` them. For example, how can we generate a random number in straight python? There is no built in python function to do this. However, There is a module in which some one has already used python to build a tool to generate random numbers and we can access this `random` module with `import random`.\n",
    "\n",
    "* [Python's random module](https://docs.python.org/2/library/random.html)\n",
    "* [Python's string module](https://docs.python.org/2/library/string.html)"
   ]
  },
  {
   "cell_type": "markdown",
   "metadata": {},
   "source": [
    "import the random module to generate random numbers, and the string module to help us work with text."
   ]
  },
  {
   "cell_type": "code",
   "execution_count": 1,
   "metadata": {},
   "outputs": [],
   "source": [
    "import random\n",
    "import string"
   ]
  },
  {
   "cell_type": "code",
   "execution_count": 23,
   "metadata": {},
   "outputs": [
    {
     "data": {
      "text/plain": [
       "1"
      ]
     },
     "execution_count": 23,
     "metadata": {},
     "output_type": "execute_result"
    }
   ],
   "source": [
    "# use `ctrl + enter` to execute the code below several times.\n",
    "# what does it look like it is doing.\n",
    "random.choice([1,2])"
   ]
  },
  {
   "cell_type": "code",
   "execution_count": 56,
   "metadata": {},
   "outputs": [
    {
     "data": {
      "text/plain": [
       "44"
      ]
     },
     "execution_count": 56,
     "metadata": {},
     "output_type": "execute_result"
    }
   ],
   "source": [
    "#test the code below by running the cell inplace several times using ctrl+enter.\n",
    "#this code should generate a random, even number between 1 an 50 every time it is run.\n",
    "\n",
    "random.choice([x for x in range(1,50) if x % 2 == 0])"
   ]
  },
  {
   "cell_type": "code",
   "execution_count": 50,
   "metadata": {},
   "outputs": [],
   "source": [
    "# press 'esc' to go into command mode and press 'a' to insert a cell above.\n",
    "# press 'd, d' to delete the cell. \n",
    "# you can do the same when adding a cell below with 'b'"
   ]
  },
  {
   "cell_type": "markdown",
   "metadata": {},
   "source": [
    "If you accidentally delete a cell you can undo the delete with the `Z` in Command mode. Try creating a new cell above and type some text into it then delete it (`d,d`) and then undo the delete with `Z`."
   ]
  },
  {
   "cell_type": "code",
   "execution_count": null,
   "metadata": {},
   "outputs": [],
   "source": [
    "# copy the code below then,\n",
    "# press 'alt + enter' to run the current cell and insert a new cell below\n",
    "# paste the code in the new cell to run the following code, a password generator:\n",
    "#Note: (*remember you will need to remove any '#' so that the code is not commented out, before running it.*)\n",
    "\n",
    "    #password = string.ascii_lowercase + string.ascii_uppercase + string.digits + string.punctuation\n",
    "    #\"\".join(random.choice(password) for i in range (16))"
   ]
  },
  {
   "cell_type": "markdown",
   "metadata": {},
   "source": [
    "Now copy (`C`) the cell with the password code and paste it below (`V`) this cell so we can modify the password so that it does not include punctuation.\n",
    "\n",
    "Once you have copied the cell change the variable name to `password_no_punctuation` and change the code so punctuation is not part of the password by removing the `+ string.punctuation`\n",
    "\n",
    "Then add this new variable to the `.join` method. \n",
    "\n",
    "The code will look like this:\n",
    "\n",
    "`password_no_punctuation = string.ascii_lowercase + string.ascii_uppercase + string.digits\n",
    "\"\".join(random.choice(password_no_punctuation) for i in range (16))`\n"
   ]
  },
  {
   "cell_type": "markdown",
   "metadata": {},
   "source": [
    "Now experiment with deleting, joining and merging cells. \n",
    "1. Select the next two cells `Shift + up/down arrow` labeled 'cell A' and 'cell B' and merge them `Shift + M`\n",
    "2. If the line numbers are not own, turn them on `Shift + L`\n",
    "3. Insert the cursor at the beginning of line 11, before the word 'make'.\n",
    "4. split the cell so the function is called in its own cell (make sure you are in edit mode for this) `CTRL + Shift + '-'`\n",
    "5. then simply run the three cells creating and calling the different fucntions"
   ]
  },
  {
   "cell_type": "code",
   "execution_count": null,
   "metadata": {},
   "outputs": [],
   "source": [
    "# cell A\n",
    "def make_password(x):\n",
    "    password = string.ascii_lowercase + string.ascii_uppercase + string.digits + string.punctuation\n",
    "    return \"\".join(random.choice(password) for i in range (x))"
   ]
  },
  {
   "cell_type": "code",
   "execution_count": null,
   "metadata": {},
   "outputs": [],
   "source": [
    "# cell B\n",
    "def make_no_punctuation_password(x):\n",
    "    password = string.ascii_lowercase + string.ascii_uppercase + string.digits\n",
    "    return \"\".join(random.choice(password) for i in range (x))\n",
    "\n",
    "make_password(10)"
   ]
  },
  {
   "cell_type": "code",
   "execution_count": null,
   "metadata": {},
   "outputs": [],
   "source": [
    "make_no_punctuation_password(10)"
   ]
  },
  {
   "cell_type": "markdown",
   "metadata": {},
   "source": [
    "### getting help and information"
   ]
  },
  {
   "cell_type": "markdown",
   "metadata": {},
   "source": [
    "We imported the `random` module but we don't know *everything* about it. We can look into the random module and see what it has available."
   ]
  },
  {
   "cell_type": "code",
   "execution_count": null,
   "metadata": {},
   "outputs": [],
   "source": [
    "dir(random)"
   ]
  },
  {
   "cell_type": "markdown",
   "metadata": {},
   "source": [
    "That did not really make it more useful.\n",
    "\n",
    "***Let's see what some of these attributes do***"
   ]
  },
  {
   "cell_type": "markdown",
   "metadata": {},
   "source": [
    "We can also use the tab completion shortcut on any loaded modules. Try typing `random.ch` in the code cell below, and then hit the `tab` key. The notebook should complete the command, or provide a list of possible commands.\n",
    "\n",
    "*Note: if you want to call the function you will need to add the `()`.*"
   ]
  },
  {
   "cell_type": "code",
   "execution_count": null,
   "metadata": {},
   "outputs": [],
   "source": [
    "random.ch"
   ]
  },
  {
   "cell_type": "markdown",
   "metadata": {},
   "source": [
    "`Shift + Tab` can be used to get a definition of a module command by inserting the cursor into the command and executing the `Shift + Tab` key strokes.\n",
    "Try inserting your cursor in to the following code cell and then press `Shift + Tab`"
   ]
  },
  {
   "cell_type": "code",
   "execution_count": null,
   "metadata": {},
   "outputs": [],
   "source": [
    "random.choice"
   ]
  },
  {
   "cell_type": "markdown",
   "metadata": {},
   "source": [
    "If you run a code cell and end a command with the `?`, jupyter notebook will provide some information about the command. WHen you are done reading the information hit `ESC`"
   ]
  },
  {
   "cell_type": "code",
   "execution_count": null,
   "metadata": {},
   "outputs": [],
   "source": [
    "random.shuffle?"
   ]
  },
  {
   "cell_type": "code",
   "execution_count": null,
   "metadata": {},
   "outputs": [],
   "source": [
    "random.choice?"
   ]
  },
  {
   "cell_type": "code",
   "execution_count": null,
   "metadata": {},
   "outputs": [],
   "source": [
    "random.sample?"
   ]
  },
  {
   "cell_type": "markdown",
   "metadata": {},
   "source": [
    "```random.sample``` could also be useful to generate a random password.\n",
    "Let's trying using the random.sample method to create a password."
   ]
  },
  {
   "cell_type": "code",
   "execution_count": null,
   "metadata": {},
   "outputs": [],
   "source": [
    "#random.sample will randomnly select items from a list and return a new list, or array, with number *k* items.\n",
    "random.sample(string.ascii_letters, k=10)"
   ]
  },
  {
   "cell_type": "code",
   "execution_count": null,
   "metadata": {},
   "outputs": [],
   "source": [
    "# we can then join the list together into a single string and create a new password. \n",
    "password_random_letters = \"\".join(random.sample(string.ascii_letters, k=10))\n",
    "print(password_random_letters)"
   ]
  },
  {
   "cell_type": "markdown",
   "metadata": {},
   "source": [
    "we can pass in our original ```password``` variable from earlier, which included numbers, and punctuation."
   ]
  },
  {
   "cell_type": "code",
   "execution_count": null,
   "metadata": {},
   "outputs": [],
   "source": [
    "new_password = \"\".join(random.sample(password, k=20))\n",
    "print(new_password)"
   ]
  },
  {
   "cell_type": "markdown",
   "metadata": {},
   "source": [
    "Let's make this easier by creating it as a function we can call and choose the length of the password (this is the x argument)."
   ]
  },
  {
   "cell_type": "code",
   "execution_count": null,
   "metadata": {},
   "outputs": [],
   "source": [
    "def make_password_randomSample(x):\n",
    "    return \"\".join(random.sample(password, k=x))"
   ]
  },
  {
   "cell_type": "code",
   "execution_count": null,
   "metadata": {},
   "outputs": [],
   "source": [
    "# Remember you need to tell the function how long the password should be by passing\n",
    "# an integer to the function as an argument, \n",
    "# i.e. insert a number between the parantheses that is the length of the password you want. \n",
    "\n",
    "make_password_randomSample()"
   ]
  },
  {
   "cell_type": "markdown",
   "metadata": {},
   "source": [
    "How can we keep track of these two functions and how they work?\n",
    "\n",
    "***add a descriptive docstring***"
   ]
  },
  {
   "cell_type": "code",
   "execution_count": null,
   "metadata": {},
   "outputs": [],
   "source": [
    "make_password_randomSample?"
   ]
  },
  {
   "cell_type": "markdown",
   "metadata": {},
   "source": [
    "Notice in the description that there is no \"Docstring. We can add a ```<docstring>``` note using the ''' ''' at the opening of the function. This will add a description to the \"Docstring\""
   ]
  },
  {
   "cell_type": "code",
   "execution_count": null,
   "metadata": {},
   "outputs": [],
   "source": [
    "def make_password_randomSample(x):\n",
    "    '''This will generate a random passcode of length=x using the random.sample function'''\n",
    "    password = string.ascii_lowercase + string.ascii_uppercase + string.digits\n",
    "    return \"\".join(random.sample(password, k=x))"
   ]
  },
  {
   "cell_type": "code",
   "execution_count": null,
   "metadata": {},
   "outputs": [],
   "source": [
    "make_password_randomSample?"
   ]
  },
  {
   "cell_type": "markdown",
   "metadata": {},
   "source": [
    "## Magic Commands"
   ]
  },
  {
   "cell_type": "markdown",
   "metadata": {},
   "source": [
    "**Magic Commands** are enhancements that come with iPython for interacting with the python code in interactive environments, e.g. jupyter notebooks. There are two types of magic commands: **inline** and **cell**"
   ]
  },
  {
   "cell_type": "markdown",
   "metadata": {},
   "source": [
    "To see a list of the commands type```%lsmagic```\n",
    "Note: inline commands begin with the single ```%``` while cell commands use the double ```%%```"
   ]
  },
  {
   "cell_type": "code",
   "execution_count": null,
   "metadata": {},
   "outputs": [],
   "source": [
    "%lsmagic"
   ]
  },
  {
   "cell_type": "markdown",
   "metadata": {},
   "source": [
    "A nice feature of the magic commands is the ability to write the contents of a cell to a file. \n",
    "\n",
    "For example we can take our function to create a password and save it as a python file. Let's expand it so that it asks for some input."
   ]
  },
  {
   "cell_type": "code",
   "execution_count": null,
   "metadata": {},
   "outputs": [],
   "source": [
    "def make_password_input():\n",
    "    x = int(input (\"how many characters: \"))\n",
    "    print( \"\".join(random.choice(password) for i in range (x)))"
   ]
  },
  {
   "cell_type": "code",
   "execution_count": null,
   "metadata": {},
   "outputs": [],
   "source": [
    "make_password_input()"
   ]
  },
  {
   "cell_type": "markdown",
   "metadata": {},
   "source": [
    "Now we might want to save it as it's own file that we want to execute someplace else, perhaps on a server for a website.\n",
    "\n",
    "First we prepend the magic command ```%%writefile``` to the cell (notice we are using \"%%\" since this is a cell command) and then add the name of the file we want to write to (or have created if it doe not exist.) e.g. `%%writefile password.py`"
   ]
  },
  {
   "cell_type": "code",
   "execution_count": null,
   "metadata": {},
   "outputs": [],
   "source": [
    "%%writefile password.py\n",
    "\n",
    "def make_password():\n",
    "    x = int(input (\"how many characters: \"))\n",
    "    # I need to add a local password variable since the global password variable will not be available to the function.\n",
    "    password = string.ascii_lowercase + string.ascii_uppercase + string.digits + string.punctuation\n",
    "    print(\"\".join(random.choice(password) for i in range (x)))\n",
    "\n",
    "make_password()"
   ]
  },
  {
   "cell_type": "markdown",
   "metadata": {},
   "source": [
    "Now if we execute the bash command to look at the files in our directory we see the file we just wrote isnow there"
   ]
  },
  {
   "cell_type": "code",
   "execution_count": null,
   "metadata": {},
   "outputs": [],
   "source": [
    "!ls"
   ]
  },
  {
   "cell_type": "markdown",
   "metadata": {},
   "source": [
    "And we can check the content of the file:"
   ]
  },
  {
   "cell_type": "code",
   "execution_count": null,
   "metadata": {},
   "outputs": [],
   "source": [
    "!cat password.py"
   ]
  },
  {
   "cell_type": "markdown",
   "metadata": {},
   "source": [
    "We can also use the jupyter help system to look at magic commands"
   ]
  },
  {
   "cell_type": "code",
   "execution_count": null,
   "metadata": {},
   "outputs": [],
   "source": [
    "%%writefile?"
   ]
  },
  {
   "cell_type": "markdown",
   "metadata": {},
   "source": [
    "And of course the magic commands can be used to load and/or run files.<br>\n",
    "The ```%load``` will load but not run the file. You will see that the function will not get executed (unless we manually run the cell.)"
   ]
  },
  {
   "cell_type": "code",
   "execution_count": null,
   "metadata": {},
   "outputs": [],
   "source": [
    "%load password.py"
   ]
  },
  {
   "cell_type": "markdown",
   "metadata": {},
   "source": [
    "To load AND run the file we can use the ```%run``` magic command"
   ]
  },
  {
   "cell_type": "code",
   "execution_count": null,
   "metadata": {},
   "outputs": [],
   "source": [
    "%run password.py"
   ]
  },
  {
   "cell_type": "markdown",
   "metadata": {},
   "source": [
    "***UH-OH***\n",
    "\n",
    "Looks like we don't have the access to the string ```module``` (and probably the ```random``` module.) The code was run only in the cell and not as part of the notebook... we can fix this buy adding the import statements to the code"
   ]
  },
  {
   "cell_type": "code",
   "execution_count": null,
   "metadata": {},
   "outputs": [],
   "source": [
    "%%writefile password.py\n",
    "import string\n",
    "import random\n",
    "def make_password():\n",
    "    x = int(input (\"how many characters: \"))\n",
    "    password = string.ascii_lowercase + string.ascii_uppercase + string.digits\n",
    "    print (\"\".join(random.choice(password) for i in range (x)))\n",
    "\n",
    "make_password()"
   ]
  },
  {
   "cell_type": "code",
   "execution_count": null,
   "metadata": {},
   "outputs": [],
   "source": [
    "%run password.py"
   ]
  },
  {
   "cell_type": "markdown",
   "metadata": {},
   "source": [
    "### Use other code"
   ]
  },
  {
   "cell_type": "markdown",
   "metadata": {},
   "source": [
    "You can also use the magic features to run other types of code. HTML for example with the `%%html` command"
   ]
  },
  {
   "cell_type": "code",
   "execution_count": null,
   "metadata": {},
   "outputs": [],
   "source": [
    "%%html?\n"
   ]
  },
  {
   "cell_type": "code",
   "execution_count": null,
   "metadata": {},
   "outputs": [],
   "source": [
    "%%html\n",
    "<article id=\"box\" style=\"border:black solid 1px;padding:10px\">\n",
    "<h1>HTML</h1>\n",
    "<p style=\"color:white;background-color:#b4b4b4\">This is text from html mark-up. <a href=\"https://www.w3schools.com/html/\">Learn HTML</a></p>\n",
    "<article>"
   ]
  },
  {
   "cell_type": "markdown",
   "metadata": {},
   "source": [
    "Or run javascirpt with `%%js`"
   ]
  },
  {
   "cell_type": "code",
   "execution_count": null,
   "metadata": {},
   "outputs": [],
   "source": [
    "%%js?"
   ]
  },
  {
   "cell_type": "markdown",
   "metadata": {},
   "source": [
    "***Note: you will need to remove the comment (i.e. '#') before the %%js to run the code in the cell***"
   ]
  },
  {
   "cell_type": "code",
   "execution_count": null,
   "metadata": {},
   "outputs": [],
   "source": [
    "# %%js\n",
    "var x = \"\"\n",
    "function hi(){\n",
    "    x = prompt('what is your name?')\n",
    "    alert('Hello ' + x)\n",
    "}\n",
    "hi()"
   ]
  },
  {
   "cell_type": "markdown",
   "metadata": {},
   "source": [
    "## A Note about security"
   ]
  },
  {
   "cell_type": "markdown",
   "metadata": {},
   "source": [
    "If you are using and running notebooks on a server there can be security issues because the notebook allows access to the terminal, which can access other directories and run commands in the server."
   ]
  }
 ],
 "metadata": {
  "kernelspec": {
   "display_name": "Python 3",
   "language": "python",
   "name": "python3"
  },
  "language_info": {
   "codemirror_mode": {
    "name": "ipython",
    "version": 3
   },
   "file_extension": ".py",
   "mimetype": "text/x-python",
   "name": "python",
   "nbconvert_exporter": "python",
   "pygments_lexer": "ipython3",
   "version": "3.6.4"
  }
 },
 "nbformat": 4,
 "nbformat_minor": 2
}
